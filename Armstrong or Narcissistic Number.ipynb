{
 "cells": [
  {
   "cell_type": "code",
   "execution_count": 5,
   "id": "5d464694",
   "metadata": {},
   "outputs": [
    {
     "name": "stdout",
     "output_type": "stream",
     "text": [
      "Enter a number: 1\n",
      "1 is an Armstrong number\n"
     ]
    }
   ],
   "source": [
    "# Program that checks if a number of 'n' digits is an armstrong number.\n",
    "\n",
    "# An Armstrong or narcissistic number is a number that is equal to the sum of the cubes of its own digits.\n",
    "# Examples: 0,1,153,370,371,407,1634,8208,etc.\n",
    "\n",
    "# Taking input from the user\n",
    "num = int(input('Enter a number: '))\n",
    "\n",
    "#First we change the num variable to a string, then find the length of this string\n",
    "num_digits = len(str(num))\n",
    "\n",
    "#Initializing sum\n",
    "sum =  0 \n",
    "\n",
    "# Then here we try to run a loop to obtain each digit using the remainder operator\"%\", since the remainder of a number divided by 10 is the last digit.We try to obtain obtain the sum by runnung a while loop.\n",
    "num1 = num\n",
    "while num1 > 0:\n",
    "    digit = num1 % 10\n",
    "    sum += digit ** num_digits\n",
    "    num1 //= 10 \n",
    "    \n",
    "    \n",
    "if num == sum:\n",
    "    print(num, 'is an Armstrong number')\n",
    "else:\n",
    "    print(num, 'is not an Armstrong number')"
   ]
  }
 ],
 "metadata": {
  "kernelspec": {
   "display_name": "Python 3 (ipykernel)",
   "language": "python",
   "name": "python3"
  },
  "language_info": {
   "codemirror_mode": {
    "name": "ipython",
    "version": 3
   },
   "file_extension": ".py",
   "mimetype": "text/x-python",
   "name": "python",
   "nbconvert_exporter": "python",
   "pygments_lexer": "ipython3",
   "version": "3.9.7"
  }
 },
 "nbformat": 4,
 "nbformat_minor": 5
}
